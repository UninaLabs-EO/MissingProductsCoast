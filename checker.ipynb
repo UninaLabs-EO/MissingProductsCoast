{
 "cells": [
  {
   "cell_type": "code",
   "execution_count": 20,
   "metadata": {},
   "outputs": [],
   "source": [
    "import pandas as pd \n",
    "import numpy as np  \n",
    "from pathlib import Path"
   ]
  },
  {
   "cell_type": "code",
   "execution_count": 10,
   "metadata": {},
   "outputs": [
    {
     "name": "stdout",
     "output_type": "stream",
     "text": [
      "['Adriatico', 'Alboran', 'Egadi', 'Sardegna', 'SenSao_Adriatico', 'SenSao_Alboran', 'SenSao_Sardegna', 'triplet_adriatico', 'triplet_alboran']\n"
     ]
    }
   ],
   "source": [
    "xls = pd.ExcelFile('Prodotti.xlsx')\n",
    "sheet_names = xls.sheet_names\n",
    "print(sheet_names)\n",
    "data = {x:pd.read_excel(xls, x) for x in sheet_names}\n",
    "Adriatico = data['Adriatico']\n",
    "Alboran = data['Alboran']\n",
    "Egadi = data['Egadi']\n",
    "Sardegna = data['Sardegna']\n"
   ]
  },
  {
   "cell_type": "markdown",
   "metadata": {},
   "source": [
    "## Alboran"
   ]
  },
  {
   "cell_type": "code",
   "execution_count": 18,
   "metadata": {},
   "outputs": [
    {
     "data": {
      "text/html": [
       "<div>\n",
       "<style scoped>\n",
       "    .dataframe tbody tr th:only-of-type {\n",
       "        vertical-align: middle;\n",
       "    }\n",
       "\n",
       "    .dataframe tbody tr th {\n",
       "        vertical-align: top;\n",
       "    }\n",
       "\n",
       "    .dataframe thead th {\n",
       "        text-align: right;\n",
       "    }\n",
       "</style>\n",
       "<table border=\"1\" class=\"dataframe\">\n",
       "  <thead>\n",
       "    <tr style=\"text-align: right;\">\n",
       "      <th></th>\n",
       "      <th>CSK ID</th>\n",
       "      <th>Time Start</th>\n",
       "      <th>Time End</th>\n",
       "      <th>Product ID2</th>\n",
       "      <th>Time Start.1</th>\n",
       "      <th>Time End.1</th>\n",
       "    </tr>\n",
       "  </thead>\n",
       "  <tbody>\n",
       "    <tr>\n",
       "      <th>0</th>\n",
       "      <td>1655516</td>\n",
       "      <td>CSK:18/12/2020, 05:57:18</td>\n",
       "      <td>CSK:18/12/2020, 05:57:25</td>\n",
       "      <td>EOL1ASARSAO1A1268025</td>\n",
       "      <td>SAOCOM:18/12/2020, 06:09:13</td>\n",
       "      <td>SAOCOM:18/12/2020, 06:09:56</td>\n",
       "    </tr>\n",
       "    <tr>\n",
       "      <th>1</th>\n",
       "      <td>1655516</td>\n",
       "      <td>CSK:18/12/2020, 05:57:18</td>\n",
       "      <td>CSK:18/12/2020, 05:57:25</td>\n",
       "      <td>EOL1ASARSAO1A1268116</td>\n",
       "      <td>SAOCOM:18/12/2020, 06:09:13</td>\n",
       "      <td>SAOCOM:18/12/2020, 06:09:56</td>\n",
       "    </tr>\n",
       "    <tr>\n",
       "      <th>2</th>\n",
       "      <td>1655516</td>\n",
       "      <td>CSK:18/12/2020, 05:57:18</td>\n",
       "      <td>CSK:18/12/2020, 05:57:25</td>\n",
       "      <td>EOL1ASARSAO1A1268109</td>\n",
       "      <td>SAOCOM:18/12/2020, 06:08:44</td>\n",
       "      <td>SAOCOM:18/12/2020, 06:09:27</td>\n",
       "    </tr>\n",
       "    <tr>\n",
       "      <th>3</th>\n",
       "      <td>1655516</td>\n",
       "      <td>CSK:18/12/2020, 05:57:18</td>\n",
       "      <td>CSK:18/12/2020, 05:57:25</td>\n",
       "      <td>EOL1ASARSAO1A1268144</td>\n",
       "      <td>SAOCOM:18/12/2020, 06:08:44</td>\n",
       "      <td>SAOCOM:18/12/2020, 06:09:27</td>\n",
       "    </tr>\n",
       "    <tr>\n",
       "      <th>4</th>\n",
       "      <td>1689914</td>\n",
       "      <td>CSK:18/01/2021, 05:39:27</td>\n",
       "      <td>CSK:18/01/2021, 05:39:34</td>\n",
       "      <td>EOL1ASARSAO1A1371293</td>\n",
       "      <td>SAOCOM:18/01/2021, 05:51:33</td>\n",
       "      <td>SAOCOM:18/01/2021, 05:52:12</td>\n",
       "    </tr>\n",
       "    <tr>\n",
       "      <th>5</th>\n",
       "      <td>1689914</td>\n",
       "      <td>CSK:18/01/2021, 05:39:27</td>\n",
       "      <td>CSK:18/01/2021, 05:39:34</td>\n",
       "      <td>EOL1ASARSAO1A1371279</td>\n",
       "      <td>SAOCOM:18/01/2021, 05:51:07</td>\n",
       "      <td>SAOCOM:18/01/2021, 05:51:47</td>\n",
       "    </tr>\n",
       "    <tr>\n",
       "      <th>6</th>\n",
       "      <td>1691328</td>\n",
       "      <td>CSK:19/01/2021, 05:57:17</td>\n",
       "      <td>CSK:19/01/2021, 05:57:25</td>\n",
       "      <td>EOL1ASARSAO1A1373885</td>\n",
       "      <td>SAOCOM:19/01/2021, 06:09:17</td>\n",
       "      <td>SAOCOM:19/01/2021, 06:10:00</td>\n",
       "    </tr>\n",
       "    <tr>\n",
       "      <th>7</th>\n",
       "      <td>1691328</td>\n",
       "      <td>CSK:19/01/2021, 05:57:17</td>\n",
       "      <td>CSK:19/01/2021, 05:57:25</td>\n",
       "      <td>EOL1ASARSAO1A1373645</td>\n",
       "      <td>SAOCOM:19/01/2021, 06:08:51</td>\n",
       "      <td>SAOCOM:19/01/2021, 06:09:31</td>\n",
       "    </tr>\n",
       "    <tr>\n",
       "      <th>8</th>\n",
       "      <td>1732439</td>\n",
       "      <td>CSK:19/02/2021, 05:39:24</td>\n",
       "      <td>CSK:19/02/2021, 05:39:32</td>\n",
       "      <td>EOL1ASARSAO1A1531214</td>\n",
       "      <td>SAOCOM:19/02/2021, 05:51:29</td>\n",
       "      <td>SAOCOM:19/02/2021, 05:52:12</td>\n",
       "    </tr>\n",
       "    <tr>\n",
       "      <th>9</th>\n",
       "      <td>1732439</td>\n",
       "      <td>CSK:19/02/2021, 05:39:24</td>\n",
       "      <td>CSK:19/02/2021, 05:39:32</td>\n",
       "      <td>EOL1ASARSAO1A1531139</td>\n",
       "      <td>SAOCOM:19/02/2021, 05:51:03</td>\n",
       "      <td>SAOCOM:19/02/2021, 05:51:43</td>\n",
       "    </tr>\n",
       "    <tr>\n",
       "      <th>10</th>\n",
       "      <td>1733740</td>\n",
       "      <td>CSK:20/02/2021, 05:57:15</td>\n",
       "      <td>CSK:20/02/2021, 05:57:22</td>\n",
       "      <td>EOL1ASARSAO1A1529667</td>\n",
       "      <td>SAOCOM:20/02/2021, 06:09:15</td>\n",
       "      <td>SAOCOM:20/02/2021, 06:09:58</td>\n",
       "    </tr>\n",
       "    <tr>\n",
       "      <th>11</th>\n",
       "      <td>1733740</td>\n",
       "      <td>CSK:20/02/2021, 05:57:15</td>\n",
       "      <td>CSK:20/02/2021, 05:57:22</td>\n",
       "      <td>EOL1ASARSAO1A1529679</td>\n",
       "      <td>SAOCOM:20/02/2021, 06:08:46</td>\n",
       "      <td>SAOCOM:20/02/2021, 06:09:29</td>\n",
       "    </tr>\n",
       "    <tr>\n",
       "      <th>12</th>\n",
       "      <td>1770276</td>\n",
       "      <td>CSK:23/03/2021, 05:39:23</td>\n",
       "      <td>CSK:23/03/2021, 05:39:31</td>\n",
       "      <td>EOL1ASARSAO1A1623567</td>\n",
       "      <td>SAOCOM:23/03/2021, 05:51:35</td>\n",
       "      <td>SAOCOM:23/03/2021, 05:52:15</td>\n",
       "    </tr>\n",
       "    <tr>\n",
       "      <th>13</th>\n",
       "      <td>1770276</td>\n",
       "      <td>CSK:23/03/2021, 05:39:23</td>\n",
       "      <td>CSK:23/03/2021, 05:39:31</td>\n",
       "      <td>EOL1ASARSAO1A1623613</td>\n",
       "      <td>SAOCOM:23/03/2021, 05:51:10</td>\n",
       "      <td>SAOCOM:23/03/2021, 05:51:49</td>\n",
       "    </tr>\n",
       "  </tbody>\n",
       "</table>\n",
       "</div>"
      ],
      "text/plain": [
       "     CSK ID                Time Start                  Time End  \\\n",
       "0   1655516  CSK:18/12/2020, 05:57:18  CSK:18/12/2020, 05:57:25   \n",
       "1   1655516  CSK:18/12/2020, 05:57:18  CSK:18/12/2020, 05:57:25   \n",
       "2   1655516  CSK:18/12/2020, 05:57:18  CSK:18/12/2020, 05:57:25   \n",
       "3   1655516  CSK:18/12/2020, 05:57:18  CSK:18/12/2020, 05:57:25   \n",
       "4   1689914  CSK:18/01/2021, 05:39:27  CSK:18/01/2021, 05:39:34   \n",
       "5   1689914  CSK:18/01/2021, 05:39:27  CSK:18/01/2021, 05:39:34   \n",
       "6   1691328  CSK:19/01/2021, 05:57:17  CSK:19/01/2021, 05:57:25   \n",
       "7   1691328  CSK:19/01/2021, 05:57:17  CSK:19/01/2021, 05:57:25   \n",
       "8   1732439  CSK:19/02/2021, 05:39:24  CSK:19/02/2021, 05:39:32   \n",
       "9   1732439  CSK:19/02/2021, 05:39:24  CSK:19/02/2021, 05:39:32   \n",
       "10  1733740  CSK:20/02/2021, 05:57:15  CSK:20/02/2021, 05:57:22   \n",
       "11  1733740  CSK:20/02/2021, 05:57:15  CSK:20/02/2021, 05:57:22   \n",
       "12  1770276  CSK:23/03/2021, 05:39:23  CSK:23/03/2021, 05:39:31   \n",
       "13  1770276  CSK:23/03/2021, 05:39:23  CSK:23/03/2021, 05:39:31   \n",
       "\n",
       "             Product ID2                 Time Start.1  \\\n",
       "0   EOL1ASARSAO1A1268025  SAOCOM:18/12/2020, 06:09:13   \n",
       "1   EOL1ASARSAO1A1268116  SAOCOM:18/12/2020, 06:09:13   \n",
       "2   EOL1ASARSAO1A1268109  SAOCOM:18/12/2020, 06:08:44   \n",
       "3   EOL1ASARSAO1A1268144  SAOCOM:18/12/2020, 06:08:44   \n",
       "4   EOL1ASARSAO1A1371293  SAOCOM:18/01/2021, 05:51:33   \n",
       "5   EOL1ASARSAO1A1371279  SAOCOM:18/01/2021, 05:51:07   \n",
       "6   EOL1ASARSAO1A1373885  SAOCOM:19/01/2021, 06:09:17   \n",
       "7   EOL1ASARSAO1A1373645  SAOCOM:19/01/2021, 06:08:51   \n",
       "8   EOL1ASARSAO1A1531214  SAOCOM:19/02/2021, 05:51:29   \n",
       "9   EOL1ASARSAO1A1531139  SAOCOM:19/02/2021, 05:51:03   \n",
       "10  EOL1ASARSAO1A1529667  SAOCOM:20/02/2021, 06:09:15   \n",
       "11  EOL1ASARSAO1A1529679  SAOCOM:20/02/2021, 06:08:46   \n",
       "12  EOL1ASARSAO1A1623567  SAOCOM:23/03/2021, 05:51:35   \n",
       "13  EOL1ASARSAO1A1623613  SAOCOM:23/03/2021, 05:51:10   \n",
       "\n",
       "                     Time End.1  \n",
       "0   SAOCOM:18/12/2020, 06:09:56  \n",
       "1   SAOCOM:18/12/2020, 06:09:56  \n",
       "2   SAOCOM:18/12/2020, 06:09:27  \n",
       "3   SAOCOM:18/12/2020, 06:09:27  \n",
       "4   SAOCOM:18/01/2021, 05:52:12  \n",
       "5   SAOCOM:18/01/2021, 05:51:47  \n",
       "6   SAOCOM:19/01/2021, 06:10:00  \n",
       "7   SAOCOM:19/01/2021, 06:09:31  \n",
       "8   SAOCOM:19/02/2021, 05:52:12  \n",
       "9   SAOCOM:19/02/2021, 05:51:43  \n",
       "10  SAOCOM:20/02/2021, 06:09:58  \n",
       "11  SAOCOM:20/02/2021, 06:09:29  \n",
       "12  SAOCOM:23/03/2021, 05:52:15  \n",
       "13  SAOCOM:23/03/2021, 05:51:49  "
      ]
     },
     "execution_count": 18,
     "metadata": {},
     "output_type": "execute_result"
    }
   ],
   "source": [
    "Alboran"
   ]
  },
  {
   "cell_type": "code",
   "execution_count": 26,
   "metadata": {},
   "outputs": [
    {
     "data": {
      "text/plain": [
       "{'EOL1ASARSAO1A1371279',\n",
       " 'EOL1ASARSAO1A1371293',\n",
       " 'EOL1ASARSAO1A1531139',\n",
       " 'EOL1ASARSAO1A1623567',\n",
       " 'EOL1ASARSAO1A1623613'}"
      ]
     },
     "execution_count": 26,
     "metadata": {},
     "output_type": "execute_result"
    }
   ],
   "source": [
    "# Let's start checking Alboran products:\n",
    "set(Alboran['CSK ID'].to_list()) # CSK is OK\n",
    "saocom = set(Alboran['Product ID2'].to_list()) # \n",
    "\n",
    "download_path = '/Volumes/data-1/Alborean/SAOCOM'\n",
    "download_path = Path(download_path)\n",
    "downloaded = [x.stem for x in download_path.glob('**/*')]\n",
    "downloaded = set(downloaded)\n",
    "\n",
    "shared = saocom.intersection(downloaded)\n",
    "difference = saocom.difference(downloaded)\n",
    "difference\n",
    "\n",
    "tobeDownloaded = ['EOL1ASARSAO1A1371279',\n",
    "                    'EOL1ASARSAO1A1371293',\n",
    "                    'EOL1ASARSAO1A1531139',\n",
    "                    'EOL1ASARSAO1A1623567',\n",
    "                    'EOL1ASARSAO1A1623613']\n",
    "\n",
    "# Sentinel products are not necessary."
   ]
  },
  {
   "cell_type": "markdown",
   "metadata": {},
   "source": [
    "## Egadi"
   ]
  },
  {
   "cell_type": "code",
   "execution_count": 46,
   "metadata": {},
   "outputs": [
    {
     "name": "stdout",
     "output_type": "stream",
     "text": [
      "{1448853, 1655589, 1285544, 1388973, 1314608, 1297203, 1685049, 1772282, 1794761, 1817291, 1545679, 1762255, 1418705, 1360337, 1324627, 1648226, 1357156, 1377380, 1356523, 1328748, 1293433, 1672570, 1509244, 1660542}\n"
     ]
    }
   ],
   "source": [
    "Egadi_csk = Egadi['CSK ID']\n",
    "Egadi_csk = set(Egadi_csk.to_list())\n",
    "Egadi_csk\n",
    "print(Egadi_csk)\n",
    "\n",
    "downloaded = [x.name for x in Path('/Volumes/data-1/Egadi/CSK').glob('**/*') if x.is_dir()]\n",
    "downloaded = [x.split('_')[-1] if x.startswith('P') else x for x in downloaded]\n",
    "downloaded = [int(x) for x in downloaded if '-' not in x]\n",
    "downloaded = set(downloaded)"
   ]
  },
  {
   "cell_type": "code",
   "execution_count": 47,
   "metadata": {},
   "outputs": [
    {
     "data": {
      "text/plain": [
       "{1509244}"
      ]
     },
     "execution_count": 47,
     "metadata": {},
     "output_type": "execute_result"
    }
   ],
   "source": [
    "Egadi_csk.difference(downloaded)\n",
    "tobeDownloaded = 1509244"
   ]
  },
  {
   "cell_type": "code",
   "execution_count": 55,
   "metadata": {},
   "outputs": [
    {
     "name": "stdout",
     "output_type": "stream",
     "text": [
      "32\n",
      "{'S1B_IW_SLC__1SDV_20210103T170341_20210103T170408_024993_02F97B_C828', 'S1B_IW_SLC__1SDV_20200719T170340_20200719T170407_022543_02AC8C_F637', 'S1B_IW_SLC__1SDV_20210409T170405_20210409T170432_026393_03268C_8FEA', 'S1B_IW_SLC__1SDV_20201023T170408_20201023T170433_023943_02D81C_3AE1', 'S1B_IW_SLC__1SDV_20210316T170340_20210316T170407_026043_031B74_2482', 'S1B_IW_SLC__1SDV_20200608T165556_20200608T165623_021945_029A5B_F53A', 'S1B_IW_SLC__1SDV_20200304T165552_20200304T165619_020545_026EEC_E01D', 'S1B_IW_SLC__1SDV_20201023T170343_20201023T170410_023943_02D81C_FF3C', 'S1B_IW_SLC__1SDV_20200414T170335_20200414T170402_021143_0281E4_B860', 'S1B_IW_SLC__1SDV_20200601T170402_20200601T170427_021843_029752_78B8', 'S1B_IW_SLC__1SDV_20200226T170334_20200226T170401_020443_026BB9_DA40', 'S1B_IW_SLC__1SDV_20201217T165601_20201217T165628_024745_02F172_1E9A', 'S1B_IW_SLC__1SDV_20201210T170342_20201210T170409_024643_02EE32_B2A1', 'S1B_IW_SLC__1SDV_20210409T170340_20210409T170407_026393_03268C_D86B', 'S1B_IW_SLC__1SDV_20210323T165559_20210323T165626_026145_031EAC_1046', 'S1B_IW_SLC__1SDV_20210103T170406_20210103T170431_024993_02F97B_7FDA', 'S1B_IW_SLC__1SDV_20200719T170405_20200719T170430_022543_02AC8C_5E57', 'S1B_IW_SLC__1SDV_20201210T170407_20201210T170432_024643_02EE32_5F2C', 'S1B_IW_SLC__1SDV_20200421T165554_20200421T165621_021245_028510_8B56', 'S1A_IW_SLC__1SDV_20200531T171253_20200531T171320_032812_03CCF9_AC01', 'S1B_IW_SLC__1SDV_20200226T170358_20200226T170424_020443_026BB9_8795', 'S1B_IW_SLC__1SDV_20210316T170404_20210316T170431_026043_031B74_81C7', 'S1B_IW_SLC__1SDV_20200601T170337_20200601T170404_021843_029752_981C', 'S1B_IW_SLC__1SDV_20200912T165602_20200912T165629_023345_02C567_71F2', 'S1A_IW_SLC__1SDV_20201221T171258_20201221T171325_035787_04305B_3E0A'}\n",
      "25\n"
     ]
    }
   ],
   "source": [
    "Egadi_sen = set(Egadi['Product ID2'].to_list())\n",
    "print(len(Egadi_sen))\n",
    "\n",
    "downloaded = set([x.stem for x in Path('/Volumes/data-1/Egadi/SEN').glob('**/*')])\n",
    "tobeDownloaded = Egadi_sen.difference(downloaded)\n",
    "print(tobeDownloaded)\n",
    "print(len(tobeDownloaded))\n",
    "# 25 Prodotti Sentinel.\n",
    "tobeDownloaded = {'S1B_IW_SLC__1SDV_20210103T170341_20210103T170408_024993_02F97B_C828', 'S1B_IW_SLC__1SDV_20200719T170340_20200719T170407_022543_02AC8C_F637', 'S1B_IW_SLC__1SDV_20210409T170405_20210409T170432_026393_03268C_8FEA', 'S1B_IW_SLC__1SDV_20201023T170408_20201023T170433_023943_02D81C_3AE1', 'S1B_IW_SLC__1SDV_20210316T170340_20210316T170407_026043_031B74_2482', 'S1B_IW_SLC__1SDV_20200608T165556_20200608T165623_021945_029A5B_F53A', 'S1B_IW_SLC__1SDV_20200304T165552_20200304T165619_020545_026EEC_E01D', 'S1B_IW_SLC__1SDV_20201023T170343_20201023T170410_023943_02D81C_FF3C', 'S1B_IW_SLC__1SDV_20200414T170335_20200414T170402_021143_0281E4_B860', 'S1B_IW_SLC__1SDV_20200601T170402_20200601T170427_021843_029752_78B8', 'S1B_IW_SLC__1SDV_20200226T170334_20200226T170401_020443_026BB9_DA40', 'S1B_IW_SLC__1SDV_20201217T165601_20201217T165628_024745_02F172_1E9A', 'S1B_IW_SLC__1SDV_20201210T170342_20201210T170409_024643_02EE32_B2A1', 'S1B_IW_SLC__1SDV_20210409T170340_20210409T170407_026393_03268C_D86B', 'S1B_IW_SLC__1SDV_20210323T165559_20210323T165626_026145_031EAC_1046', 'S1B_IW_SLC__1SDV_20210103T170406_20210103T170431_024993_02F97B_7FDA', 'S1B_IW_SLC__1SDV_20200719T170405_20200719T170430_022543_02AC8C_5E57', 'S1B_IW_SLC__1SDV_20201210T170407_20201210T170432_024643_02EE32_5F2C', 'S1B_IW_SLC__1SDV_20200421T165554_20200421T165621_021245_028510_8B56', 'S1A_IW_SLC__1SDV_20200531T171253_20200531T171320_032812_03CCF9_AC01', 'S1B_IW_SLC__1SDV_20200226T170358_20200226T170424_020443_026BB9_8795', 'S1B_IW_SLC__1SDV_20210316T170404_20210316T170431_026043_031B74_81C7', 'S1B_IW_SLC__1SDV_20200601T170337_20200601T170404_021843_029752_981C', 'S1B_IW_SLC__1SDV_20200912T165602_20200912T165629_023345_02C567_71F2', 'S1A_IW_SLC__1SDV_20201221T171258_20201221T171325_035787_04305B_3E0A'}"
   ]
  },
  {
   "cell_type": "markdown",
   "metadata": {},
   "source": [
    "## Sardegna"
   ]
  },
  {
   "cell_type": "code",
   "execution_count": 64,
   "metadata": {},
   "outputs": [],
   "source": [
    "Sardegna_csk = set(Sardegna['CSK ID'].to_list())\n",
    "Sardegna_sao = [x for x in Sardegna['Product ID2'].to_list() if x.startswith('E')]\n",
    "Sardegna_sen = [x for x in Sardegna['Product ID2'].to_list() if x.startswith('S')]\n",
    "\n",
    "downloaded_sao = [x.stem for x in Path('/Volumes/data-1/Sardegna/SAOCOM').glob('**/*') if x.is_file()]\n",
    "downloaded_sen = [x.stem for x in Path('/Volumes/data-1/Sardegna/SEN').glob('**/*') if x.is_file()]\n",
    "downloaded_csk = [x.stem for x in Path('/Volumes/data-1/Sardegna/CSK').glob('**/*') if x.is_dir()]\n",
    "downloaded_csk = [x for x in downloaded_csk if '-' not in x]\n"
   ]
  },
  {
   "cell_type": "code",
   "execution_count": 67,
   "metadata": {},
   "outputs": [],
   "source": [
    "tmp = []\n",
    "for elem in downloaded_csk:\n",
    "     if elem.startswith('P'):\n",
    "          tmp.append(elem.split('_')[-1])\n",
    "     else:\n",
    "          tmp += elem.split('_')\n",
    "csk_down_correct = tmp \n",
    "csk_down_correct = [int(x) for x in csk_down_correct]"
   ]
  },
  {
   "cell_type": "code",
   "execution_count": 68,
   "metadata": {},
   "outputs": [
    {
     "data": {
      "text/plain": [
       "{1534730, 1756348}"
      ]
     },
     "execution_count": 68,
     "metadata": {},
     "output_type": "execute_result"
    }
   ],
   "source": [
    "Sardegna_csk.difference(set(csk_down_correct))\n",
    "tobeDownloaded = [1534730, 1756348] # CSK"
   ]
  },
  {
   "cell_type": "code",
   "execution_count": 69,
   "metadata": {},
   "outputs": [
    {
     "data": {
      "text/plain": [
       "{'EOL1ASARSAO1A1257354'}"
      ]
     },
     "execution_count": 69,
     "metadata": {},
     "output_type": "execute_result"
    }
   ],
   "source": [
    "set(Sardegna_sao).difference(set(downloaded_sao))\n",
    "tobeDownloaded = ['EOL1ASARSAO1A1257354'] # SAO"
   ]
  },
  {
   "cell_type": "code",
   "execution_count": 73,
   "metadata": {},
   "outputs": [],
   "source": [
    "set(Sardegna_sen).difference(set(downloaded_sen))\n",
    "tobeDownloaded = ['S1A_IW_SLC__1SDV_20191220T172147_20191220T172215_030435_037BBC_BC52',\n",
    " 'S1A_IW_SLC__1SDV_20200206T172211_20200206T172238_031135_039421_68EE',\n",
    " 'S1A_IW_SLC__1SDV_20200301T172211_20200301T172238_031485_03A030_5220',\n",
    " 'S1A_IW_SLC__1SDV_20200325T172145_20200325T172213_031835_03AC73_0E5B',\n",
    " 'S1A_IW_SLC__1SDV_20200418T172122_20200418T172148_032185_03B8C6_2445',\n",
    " 'S1A_IW_SLC__1SDV_20200524T172123_20200524T172150_032710_03C9F5_7C16',\n",
    " 'S1A_IW_SLC__1SDV_20200605T172215_20200605T172242_032885_03CF21_9FB8',\n",
    " 'S1A_IW_SLC__1SDV_20200629T172125_20200629T172152_033235_03D9B6_FA60',\n",
    " 'S1A_IW_SLC__1SDV_20200629T172150_20200629T172218_033235_03D9B6_9997',\n",
    " 'S1A_IW_SLC__1SDV_20200629T172216_20200629T172243_033235_03D9B6_B8B4',\n",
    " 'S1A_IW_SLC__1SDV_20200723T172152_20200723T172220_033585_03E467_689F',\n",
    " 'S1A_IW_SLC__1SDV_20200828T172154_20200828T172222_034110_03F5FE_139B',\n",
    " 'S1A_IW_SLC__1SDV_20200909T172154_20200909T172222_034285_03FC20_4826',\n",
    " 'S1A_IW_SLC__1SDV_20210107T172128_20210107T172155_036035_0438F7_BBEE',\n",
    " 'S1A_IW_SLC__1SDV_20210107T172153_20210107T172221_036035_0438F7_C735',\n",
    " 'S1A_IW_SLC__1SDV_20210224T172151_20210224T172219_036735_045158_33CB',\n",
    " 'S1A_IW_SLC__1SDV_20210320T172126_20210320T172153_037085_045D92_4489',\n",
    " 'S1A_IW_SLC__1SDV_20210320T172217_20210320T172244_037085_045D92_29A0']"
   ]
  },
  {
   "cell_type": "code",
   "execution_count": null,
   "metadata": {},
   "outputs": [],
   "source": []
  }
 ],
 "metadata": {
  "kernelspec": {
   "display_name": "Python 3.9.7 ('py39')",
   "language": "python",
   "name": "python3"
  },
  "language_info": {
   "codemirror_mode": {
    "name": "ipython",
    "version": 3
   },
   "file_extension": ".py",
   "mimetype": "text/x-python",
   "name": "python",
   "nbconvert_exporter": "python",
   "pygments_lexer": "ipython3",
   "version": "3.9.7"
  },
  "orig_nbformat": 4,
  "vscode": {
   "interpreter": {
    "hash": "b92fba3ade83b94b148469d466b202fdab161d6be64369461b773a8ba043abc0"
   }
  }
 },
 "nbformat": 4,
 "nbformat_minor": 2
}
