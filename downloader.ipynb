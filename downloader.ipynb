{
 "cells": [
  {
   "cell_type": "code",
   "execution_count": 3,
   "metadata": {},
   "outputs": [],
   "source": [
    "import pandas as pd\n",
    "import asf_search\n",
    "import os  \n",
    "cwd = os.getcwd()\n",
    "\n",
    "def uniqueness(lista):\n",
    "     return list(set(lista))\n",
    "\n",
    "excel = pd.ExcelFile('MissingProducts.xlsx')\n",
    "sh_name = 'Adriatico'\n",
    "products = uniqueness(pd.read_excel(excel, sh_name)['Sentinel'].to_list())\n",
    "# print(products)\n",
    "products=['S1A_IW_SLC__1SDV_20201106T045535_20201106T045603_035123_041957_2E53',]\n",
    "# 'S1B_IW_SLC__1SDV_20201117T050305_20201117T050333_024300_02E342_E0A7']\n",
    "results = asf_search.granule_search(products)"
   ]
  },
  {
   "cell_type": "code",
   "execution_count": 4,
   "metadata": {},
   "outputs": [],
   "source": [
    "session = asf_search.ASFSession()\n",
    "session.auth_with_creds('sirbastiano94', 'Peppino123')\n",
    "results.download(path=cwd, session=session)"
   ]
  },
  {
   "cell_type": "code",
   "execution_count": null,
   "metadata": {},
   "outputs": [],
   "source": []
  }
 ],
 "metadata": {
  "kernelspec": {
   "display_name": "Python 3.9.7 ('py39')",
   "language": "python",
   "name": "python3"
  },
  "language_info": {
   "codemirror_mode": {
    "name": "ipython",
    "version": 3
   },
   "file_extension": ".py",
   "mimetype": "text/x-python",
   "name": "python",
   "nbconvert_exporter": "python",
   "pygments_lexer": "ipython3",
   "version": "3.9.7"
  },
  "orig_nbformat": 4,
  "vscode": {
   "interpreter": {
    "hash": "b92fba3ade83b94b148469d466b202fdab161d6be64369461b773a8ba043abc0"
   }
  }
 },
 "nbformat": 4,
 "nbformat_minor": 2
}
