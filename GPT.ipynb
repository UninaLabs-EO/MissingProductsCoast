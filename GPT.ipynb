{
 "cells": [
  {
   "cell_type": "code",
   "execution_count": 3,
   "metadata": {},
   "outputs": [],
   "source": [
    "from Engine import GPT\n",
    "from pathlib import Path\n",
    "import shutil\n",
    "import os\n",
    "\n",
    "def delete(path_to_delete):\n",
    "     if isinstance(path_to_delete, str):\n",
    "          path_to_delete = Path(path_to_delete)\n",
    "     elif isinstance(path_to_delete, Path):\n",
    "          pass\n",
    "     \n",
    "     if path_to_delete.is_dir():\n",
    "          shutil.rmtree(path_to_delete.as_posix())\n",
    "     else:\n",
    "          os.remove(path_to_delete.as_posix())\n",
    "\n",
    "def delProd(prodToDelete):\n",
    "     \"\"\" Delete and keep last product processed. \"\"\"\n",
    "     if isinstance(prodToDelete, Path):\n",
    "          prodToDelete = prodToDelete.as_posix()\n",
    "     delete(prodToDelete)\n",
    "     delete(prodToDelete.replace('.dim','.data'))"
   ]
  },
  {
   "cell_type": "code",
   "execution_count": 5,
   "metadata": {},
   "outputs": [
    {
     "name": "stdout",
     "output_type": "stream",
     "text": [
      "./S1A_IW_SLC__1SDV_20210210T045532_20210210T045559_036523_0449F0_5DBF_DEB.dim\n"
     ]
    },
    {
     "name": "stderr",
     "output_type": "stream",
     "text": [
      "INFO: org.esa.snap.core.gpf.operators.tooladapter.ToolAdapterIO: Initializing external tool adapters\n",
      "INFO: org.esa.s2tbx.dataio.gdal.GDALVersion: GDAL 3.0.2 found on system. JNI driver will be used.\n",
      "INFO: org.esa.s2tbx.dataio.gdal.GDALVersion: Installed GDAL 3.0.2 set to be used by SNAP.\n",
      "Native library load failed.\n",
      "java.lang.UnsatisfiedLinkError: /Users/robertodelprete/.snap/auxdata/gdal/gdal-3-0-X-jni/libgdalalljni.dylib: dlopen(/Users/robertodelprete/.snap/auxdata/gdal/gdal-3-0-X-jni/libgdalalljni.dylib, 0x0001): Library not loaded: /usr/local/lib/libgdal.26.dylib\n",
      "  Referenced from: /Users/robertodelprete/.snap/auxdata/gdal/gdal-3-0-X-jni/libgdalalljni.dylib\n",
      "  Reason: tried: '/usr/local/lib/libgdal.26.dylib' (no such file), '/usr/lib/libgdal.26.dylib' (no such file)\n",
      "SEVERE: org.esa.s2tbx.dataio.gdal.GDALLoader: Failed to initialize GDAL native drivers. GDAL readers and writers were disabled.java.lang.reflect.InvocationTargetException\n",
      "INFO: org.esa.snap.core.util.EngineVersionCheckActivator: Please check regularly for new updates for the best SNAP experience.\n",
      "INFO: org.esa.s2tbx.dataio.gdal.GDALVersion: Installed GDAL 3.0.2 set to be used by SNAP.\n",
      "INFO: org.esa.s1tbx.io.sentinel1.Sentinel1Level1Directory: Less than 8K RAM. Using FileCacheImageInputStream\n",
      "INFO: org.esa.s1tbx.io.sentinel1.Sentinel1Level1Directory: Less than 8K RAM. Using FileCacheImageInputStream\n",
      "INFO: org.esa.s1tbx.io.sentinel1.Sentinel1Level1Directory: Less than 8K RAM. Using FileCacheImageInputStream\n",
      "INFO: org.esa.s1tbx.io.sentinel1.Sentinel1Level1Directory: Less than 8K RAM. Using FileCacheImageInputStream\n",
      "INFO: org.esa.s1tbx.io.sentinel1.Sentinel1Level1Directory: Less than 8K RAM. Using FileCacheImageInputStream\n",
      "INFO: org.esa.s1tbx.io.sentinel1.Sentinel1Level1Directory: Less than 8K RAM. Using FileCacheImageInputStream\n",
      "INFO: org.hsqldb.persist.Logger: dataFileCache open start\n",
      "INFO: org.esa.snap.core.gpf.common.WriteOp: Start writing product S1A_IW_SLC__1SDV_20210210T045532_20210210T045559_036523_0449F0_5DBF_Deb to ./S1A_IW_SLC__1SDV_20210210T045532_20210210T045559_036523_0449F0_5DBF_DEB.dim\n",
      "INFO: org.esa.snap.core.gpf.common.WriteOp: End writing product S1A_IW_SLC__1SDV_20210210T045532_20210210T045559_036523_0449F0_5DBF_DEB to ./S1A_IW_SLC__1SDV_20210210T045532_20210210T045559_036523_0449F0_5DBF_DEB.dim\n",
      "INFO: org.esa.snap.core.gpf.common.WriteOp: Time: 126.929 s total,  9.334 ms per line, 0.000135 ms per pixel\n"
     ]
    },
    {
     "name": "stdout",
     "output_type": "stream",
     "text": [
      "Executing operator...\n",
      "20%....30%....40%....50%....60%.....72%....82%....92%.... done.\n",
      "Writing...\n",
      ".13%..24%....34%....44%....54%....64%....74%....84%....94%... done.\n",
      "\n",
      "./S1A_IW_SLC__1SDV_20210210T045532_20210210T045559_036523_0449F0_5DBF_CAL.dim\n"
     ]
    },
    {
     "name": "stderr",
     "output_type": "stream",
     "text": [
      "INFO: org.esa.snap.core.gpf.operators.tooladapter.ToolAdapterIO: Initializing external tool adapters\n",
      "INFO: org.esa.s2tbx.dataio.gdal.GDALVersion: GDAL 3.0.2 found on system. JNI driver will be used.\n",
      "INFO: org.esa.s2tbx.dataio.gdal.GDALVersion: Installed GDAL 3.0.2 set to be used by SNAP.\n",
      "Native library load failed.\n",
      "java.lang.UnsatisfiedLinkError: /Users/robertodelprete/.snap/auxdata/gdal/gdal-3-0-X-jni/libgdalalljni.dylib: dlopen(/Users/robertodelprete/.snap/auxdata/gdal/gdal-3-0-X-jni/libgdalalljni.dylib, 0x0001): Library not loaded: /usr/local/lib/libgdal.26.dylib\n",
      "  Referenced from: /Users/robertodelprete/.snap/auxdata/gdal/gdal-3-0-X-jni/libgdalalljni.dylib\n",
      "  Reason: tried: '/usr/local/lib/libgdal.26.dylib' (no such file), '/usr/lib/libgdal.26.dylib' (no such file)\n",
      "SEVERE: org.esa.s2tbx.dataio.gdal.GDALLoader: Failed to initialize GDAL native drivers. GDAL readers and writers were disabled.java.lang.reflect.InvocationTargetException\n",
      "INFO: org.esa.snap.core.util.EngineVersionCheckActivator: Please check regularly for new updates for the best SNAP experience.\n",
      "INFO: org.esa.s2tbx.dataio.gdal.GDALVersion: Installed GDAL 3.0.2 set to be used by SNAP.\n",
      "INFO: org.hsqldb.persist.Logger: dataFileCache open start\n",
      "INFO: org.esa.snap.core.gpf.common.WriteOp: Start writing product S1A_IW_SLC__1SDV_20210210T045532_20210210T045559_036523_0449F0_5DBF_DEB_Cal to ./S1A_IW_SLC__1SDV_20210210T045532_20210210T045559_036523_0449F0_5DBF_CAL.dim\n",
      "INFO: org.esa.snap.core.gpf.common.WriteOp: End writing product S1A_IW_SLC__1SDV_20210210T045532_20210210T045559_036523_0449F0_5DBF_CAL to ./S1A_IW_SLC__1SDV_20210210T045532_20210210T045559_036523_0449F0_5DBF_CAL.dim\n",
      "INFO: org.esa.snap.core.gpf.common.WriteOp: Time: 90.940 s total,  6.688 ms per line, 0.000097 ms per pixel\n"
     ]
    },
    {
     "name": "stdout",
     "output_type": "stream",
     "text": [
      "Executing operator...\n",
      "20%....30%....40%....50%....60%....70%....80%....90%.... done.\n",
      "Writing...\n",
      ".13%..24%....34%....44%....54%....64%....74%....84%....94%... done.\n",
      "\n",
      "./S1A_IW_SLC__1SDV_20210210T045532_20210210T045559_036523_0449F0_5DBF_LM.dim\n"
     ]
    },
    {
     "name": "stderr",
     "output_type": "stream",
     "text": [
      "INFO: org.esa.snap.core.gpf.operators.tooladapter.ToolAdapterIO: Initializing external tool adapters\n",
      "INFO: org.esa.s2tbx.dataio.gdal.GDALVersion: GDAL 3.0.2 found on system. JNI driver will be used.\n",
      "INFO: org.esa.s2tbx.dataio.gdal.GDALVersion: Installed GDAL 3.0.2 set to be used by SNAP.\n",
      "Native library load failed.\n",
      "java.lang.UnsatisfiedLinkError: /Users/robertodelprete/.snap/auxdata/gdal/gdal-3-0-X-jni/libgdalalljni.dylib: dlopen(/Users/robertodelprete/.snap/auxdata/gdal/gdal-3-0-X-jni/libgdalalljni.dylib, 0x0001): Library not loaded: /usr/local/lib/libgdal.26.dylib\n",
      "  Referenced from: /Users/robertodelprete/.snap/auxdata/gdal/gdal-3-0-X-jni/libgdalalljni.dylib\n",
      "  Reason: tried: '/usr/local/lib/libgdal.26.dylib' (no such file), '/usr/lib/libgdal.26.dylib' (no such file)\n",
      "SEVERE: org.esa.s2tbx.dataio.gdal.GDALLoader: Failed to initialize GDAL native drivers. GDAL readers and writers were disabled.java.lang.reflect.InvocationTargetException\n",
      "INFO: org.esa.snap.core.util.EngineVersionCheckActivator: Please check regularly for new updates for the best SNAP experience.\n",
      "INFO: org.esa.s2tbx.dataio.gdal.GDALVersion: Installed GDAL 3.0.2 set to be used by SNAP.\n",
      "INFO: org.hsqldb.persist.Logger: dataFileCache open start\n",
      "INFO: org.esa.snap.core.gpf.common.WriteOp: Start writing product S1A_IW_SLC__1SDV_20210210T045532_20210210T045559_036523_0449F0_5DBF_CAL to ./S1A_IW_SLC__1SDV_20210210T045532_20210210T045559_036523_0449F0_5DBF_LM.dim\n"
     ]
    }
   ],
   "source": [
    "from numpy import product\n",
    "prodotto = Path('S1A_IW_SLC__1SDV_20210210T045532_20210210T045559_036523_0449F0_5DBF.zip')\n",
    "\n",
    "OP = GPT(product=prodotto, outdir=prodotto.parent.as_posix())\n",
    "prod0 = OP.Deburst()\n",
    "prod1 = OP.Calibration(Pols=['VH'])\n",
    "prod2 = OP.LandMask()\n",
    "\n",
    "delProd(prod0)\n",
    "delProd(prod1)"
   ]
  }
 ],
 "metadata": {
  "kernelspec": {
   "display_name": "Python 3.9.7 ('py39')",
   "language": "python",
   "name": "python3"
  },
  "language_info": {
   "codemirror_mode": {
    "name": "ipython",
    "version": 3
   },
   "file_extension": ".py",
   "mimetype": "text/x-python",
   "name": "python",
   "nbconvert_exporter": "python",
   "pygments_lexer": "ipython3",
   "version": "3.9.7"
  },
  "orig_nbformat": 4,
  "vscode": {
   "interpreter": {
    "hash": "b92fba3ade83b94b148469d466b202fdab161d6be64369461b773a8ba043abc0"
   }
  }
 },
 "nbformat": 4,
 "nbformat_minor": 2
}
